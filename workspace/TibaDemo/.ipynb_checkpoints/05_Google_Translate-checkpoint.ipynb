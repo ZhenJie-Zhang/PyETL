{
 "cells": [
  {
   "cell_type": "code",
   "execution_count": 2,
   "metadata": {},
   "outputs": [],
   "source": [
    "# https://translate.google.com.tw/?hl=zh-TW\n",
    "import requests\n",
    "url = \"https://translate.google.com/translate_tts?ie=UTF-8&tl=en&client=tw-ob&q=hello\"\n",
    "response = requests.get(url)\n",
    "# 不要有解碼過的字串的話, 使用 content 來得到原始回應\n",
    "audio = response.content\n",
    "with open(\"test.mp3\", \"wb\") as f:\n",
    "    f.write(audio)"
   ]
  },
  {
   "cell_type": "code",
   "execution_count": 3,
   "metadata": {},
   "outputs": [],
   "source": [
    "# https://zh.wikipedia.org/wiki/周杰倫\n",
    "import requests\n",
    "# 開啟檔案, 記得要放在跟你的.py 或.ipynb 同一層, 使用\"r\" + encoding\n",
    "with open(\"a.txt\", \"r\", encoding=\"utf-8\") as f:\n",
    "    article = f.read()\n",
    "# 組合成完整字串, article 是字串, 所有串連沒有問題\n",
    "# 因為這裡會超過頁面篇幅, 所以我分成兩行書寫\n",
    "base = \"https://translate.google.com/translate_tts?ie=UTF-8&tl=zh-TW&client=tw-ob&q=\"\n",
    "url = base + article\n",
    "response = requests.get(url)\n",
    "audio = response.content\n",
    "with open(\"test.mp3\", \"wb\") as f:\n",
    "    f.write(audio)"
   ]
  },
  {
   "cell_type": "code",
   "execution_count": 4,
   "metadata": {},
   "outputs": [],
   "source": [
    "import requests\n",
    "with open(\"a.txt\", \"r\", encoding=\"utf-8\") as f:\n",
    "    article = f.read()\n",
    "base = \"https://translate.google.com/translate_tts?ie=UTF-8&tl=zh-TW&client=tw-ob&q=\"\n",
    "# 我設定在外面方便調整, 當然讀者也可以做成個函數, 方便帶入不同數值\n",
    "speed = 0.1\n",
    "# 加入 ttsspeed 的網址參數, 由於 speed 是數字, 一定要轉換成字串才能串連\n",
    "url = base + article + \"&ttsspeed=\" + str(speed)\n",
    "response = requests.get(url)\n",
    "audio = response.content\n",
    "with open(\"test.mp3\", \"wb\") as f:\n",
    "    f.write(audio)"
   ]
  },
  {
   "cell_type": "code",
   "execution_count": 6,
   "metadata": {},
   "outputs": [
    {
     "data": {
      "text/plain": [
       "['./input\\\\chou.txt', './input\\\\lin.txt']"
      ]
     },
     "execution_count": 6,
     "metadata": {},
     "output_type": "execute_result"
    }
   ],
   "source": [
    "import glob\n",
    "# ./代表同一層\n",
    "glob.glob(\"./input/*.txt\")"
   ]
  },
  {
   "cell_type": "code",
   "execution_count": 7,
   "metadata": {},
   "outputs": [
    {
     "name": "stdout",
     "output_type": "stream",
     "text": [
      "[處理中]: ./input\\chou.txt\n",
      "[儲存中]: ./output\\chou.mp3\n",
      "[處理中]: ./input\\lin.txt\n",
      "[儲存中]: ./output\\lin.mp3\n"
     ]
    }
   ],
   "source": [
    "import glob\n",
    "import requests\n",
    "import os\n",
    "flist = glob.glob(\"./input/*.txt\")\n",
    "for fname in flist:\n",
    "    # 替換成 fname\n",
    "    with open(fname, \"r\", encoding=\"utf-8\") as f:\n",
    "        print(\"[處理中]:\", fname)\n",
    "        article = f.read()\n",
    "\n",
    "    base = \"https://translate.google.com/translate_tts?ie=UTF-8&tl=zh-TW&client=tw-ob&q=\"\n",
    "    url = base + article\n",
    "    response = requests.get(url)\n",
    "    audio = response.content\n",
    "    # 準備存檔的名字, 把.txt 替換成.mp3 即可\n",
    "    savename = fname.replace(\".txt\", \".mp3\")\n",
    "    # 這裡比較特別, 我把 input 替換成 output, 但只替換掉最左邊的 input, 帶入選用參數 (1)\n",
    "    # 因為如果你全部替換有可能會把 input.txt 變成 output.mp3 而覆蓋掉其他 mp3\n",
    "    savename = savename.replace(\"input\", \"output\", 1)\n",
    "    # 在建立前必須先檢查資料夾有沒有存在\n",
    "    # 不存在才可以創建\n",
    "    if not os.path.exists(\"./output\"):\n",
    "        os.mkdir(\"./output\")\n",
    "    \n",
    "    with open(savename, \"wb\") as f:\n",
    "        print(\"[儲存中]:\", savename)\n",
    "        f.write(audio)"
   ]
  },
  {
   "cell_type": "code",
   "execution_count": 16,
   "metadata": {},
   "outputs": [
    {
     "ename": "HTTPError",
     "evalue": "404 Client Error: Not Found for url: https://translate.google.com/translate_tts?ie=UTF-8&tl=en&client=tw-ob&q=Later%20that%20day,%20when%20the%20Princess%20was%20sitting%20at%20the%20table,%20something%20was%20heard%20coming%20up%20the%20marble%20stairs.%20Splish,%20splosh,%20splish%20splosh!%20The%20sound%20came%20nearer%20and%20nearer,%20and%20a%20voice%20cried,%20%22Let%20me%20in,%20youngest%20daughter%20of%20the%20King.%20%22The%20Princess%20jumped%20up%20to%20see%20who%20had%20called%20her.%20Now%20when%20she%20caught%20sight%20of%20the%20frog,%20she%20turned%20very%20pale.%20%22What%20does%20a%20frog%20want%20with%20you?%22%20demanded%20the%20King,%20looking%20rather%20surprised.%20The%20Princess%20hung%20her%20head.%20%22When%20I%20was%20sitting%20by%20the%20fountain%20my%20golden%20ball%20fell%20into%20the%20water.%20This%20frog%20fetched%20it%20back%20for%20me,%20because%20I%20cried%20so%20much.%22%20The%20Princess%20started%20to%20cry%20again.%20%22I%20promised%20to%20love%20him%20and%20let%20him%20eat%20from%20my%20golden%20plate,%20drink%20from%20my%20golden%20cup,%20and%20sleep%20on%20my%20golden%20bed.%20%22The%20King%20looked%20at%20the%20frog%20and%20thought%20for%20a%20while%20before%20he%20spoke.%20%22Then%20you%20must%20keep%20your%20promise,%20my%20daughter.%20%22The%20Princess%20knew%20she%20must%20obey,%20so%20she%20let%20the%20frog%20to%20come%20inside%20The%20frog%20hopped%20in%20after%20her%20and%20jumped%20up%20into%20her%20chair%20and%20straight%20onto%20the%20table.%20%22Now%20push%20your%20golden%20plate%20near%20me.%22%20said%20the%20frog,%20%22so%20that%20we%20may%20eat%20together.%22%20As%20she%20did%20so,%20the%20frog%20leapt%20onto%20her%20plate%20and%20ate%20up%20all%20her%20dinner,%20which%20was%20just%20as%20well,%20because%20the%20Princess%20didn't%20feel%20much%20like%20eating.%20Next,%20the%20frog%20drank%20from%20her%20little%20golden%20cup%20until%20it%20was%20quite%20empty.%20Somehow%20the%20Princess%20didn't%20feel%20at%20all%20thirsty%20either!%20After%20the%20frog%20had%20finished,%20he%20took%20one%20great%20leap%20and%20landed%20on%20the%20Princess's%20knee.%20%22Go%20away%20you%20ugly,%20cold%20frog!%20%22she%20screamed.%20%22I%20will%20never%20let%20you%20sleep%20on%20my%20lovely,%20clean%20bed!%20%22That%20made%20the%20King%20very%20angry.%20%22This%20frog%20helped%20you%20when%20you%20needed%20it.%20Now%20you%20must%20keep%20your%20promise%20to%20him.%20%22Very%20unwillingly%20the%20Princess%20picked%20up%20the%20frog%20and%20carried%20him%20upstairs%20to%20her%20room.%20When%20the%20frog%20hopped%20into%20the%20middle%20of%20her%20goldened,%20it%20was%20just%20too%20much%20for%20the%20Princess.%20She%20pushed%20the%20frog%20hard%20and%20it%20fell%20onto%20the%20floor.%20As%20he%20fell%20he%20was%20changed%20into%20a%20handsome%20Prince.%20A%20spell%20had%20been%20cast%20on%20him%20by%20an%20evil%20witch%20and%20only%20the%20Princess%20had%20the%20power%20to%20break%20it.%20The%20Princess%20was%20speechless.%20She%20felt%20very%20sorry%20indeed%20that%20she%20had%20been%20so%20unkind%20to%20the%20frog.%20After%20a%20while,%20the%20handsome%20Prince%20and%20the%20Princess%20were%20married,%20and%20lived%20happily%20ever%20after.",
     "output_type": "error",
     "traceback": [
      "\u001b[1;31m---------------------------------------------------------------------------\u001b[0m",
      "\u001b[1;31mHTTPError\u001b[0m                                 Traceback (most recent call last)",
      "\u001b[1;32m<ipython-input-16-32e333227867>\u001b[0m in \u001b[0;36m<module>\u001b[1;34m\u001b[0m\n\u001b[0;32m      6\u001b[0m \u001b[0murl\u001b[0m \u001b[1;33m=\u001b[0m \u001b[0mbaseurl\u001b[0m \u001b[1;33m+\u001b[0m \u001b[0marticle\u001b[0m\u001b[1;33m\u001b[0m\u001b[0m\n\u001b[0;32m      7\u001b[0m \u001b[0mresponse\u001b[0m \u001b[1;33m=\u001b[0m \u001b[0mrequests\u001b[0m\u001b[1;33m.\u001b[0m\u001b[0mget\u001b[0m\u001b[1;33m(\u001b[0m\u001b[0murl\u001b[0m\u001b[1;33m)\u001b[0m\u001b[1;33m\u001b[0m\u001b[0m\n\u001b[1;32m----> 8\u001b[1;33m \u001b[0mresponse\u001b[0m\u001b[1;33m.\u001b[0m\u001b[0mraise_for_status\u001b[0m\u001b[1;33m(\u001b[0m\u001b[1;33m)\u001b[0m\u001b[1;33m\u001b[0m\u001b[0m\n\u001b[0m",
      "\u001b[1;32m~\\AppData\\Local\\Programs\\Python\\Python37\\lib\\site-packages\\requests\\models.py\u001b[0m in \u001b[0;36mraise_for_status\u001b[1;34m(self)\u001b[0m\n\u001b[0;32m    927\u001b[0m \u001b[1;33m\u001b[0m\u001b[0m\n\u001b[0;32m    928\u001b[0m         \u001b[1;32mif\u001b[0m \u001b[0mhttp_error_msg\u001b[0m\u001b[1;33m:\u001b[0m\u001b[1;33m\u001b[0m\u001b[0m\n\u001b[1;32m--> 929\u001b[1;33m             \u001b[1;32mraise\u001b[0m \u001b[0mHTTPError\u001b[0m\u001b[1;33m(\u001b[0m\u001b[0mhttp_error_msg\u001b[0m\u001b[1;33m,\u001b[0m \u001b[0mresponse\u001b[0m\u001b[1;33m=\u001b[0m\u001b[0mself\u001b[0m\u001b[1;33m)\u001b[0m\u001b[1;33m\u001b[0m\u001b[0m\n\u001b[0m\u001b[0;32m    930\u001b[0m \u001b[1;33m\u001b[0m\u001b[0m\n\u001b[0;32m    931\u001b[0m     \u001b[1;32mdef\u001b[0m \u001b[0mclose\u001b[0m\u001b[1;33m(\u001b[0m\u001b[0mself\u001b[0m\u001b[1;33m)\u001b[0m\u001b[1;33m:\u001b[0m\u001b[1;33m\u001b[0m\u001b[0m\n",
      "\u001b[1;31mHTTPError\u001b[0m: 404 Client Error: Not Found for url: https://translate.google.com/translate_tts?ie=UTF-8&tl=en&client=tw-ob&q=Later%20that%20day,%20when%20the%20Princess%20was%20sitting%20at%20the%20table,%20something%20was%20heard%20coming%20up%20the%20marble%20stairs.%20Splish,%20splosh,%20splish%20splosh!%20The%20sound%20came%20nearer%20and%20nearer,%20and%20a%20voice%20cried,%20%22Let%20me%20in,%20youngest%20daughter%20of%20the%20King.%20%22The%20Princess%20jumped%20up%20to%20see%20who%20had%20called%20her.%20Now%20when%20she%20caught%20sight%20of%20the%20frog,%20she%20turned%20very%20pale.%20%22What%20does%20a%20frog%20want%20with%20you?%22%20demanded%20the%20King,%20looking%20rather%20surprised.%20The%20Princess%20hung%20her%20head.%20%22When%20I%20was%20sitting%20by%20the%20fountain%20my%20golden%20ball%20fell%20into%20the%20water.%20This%20frog%20fetched%20it%20back%20for%20me,%20because%20I%20cried%20so%20much.%22%20The%20Princess%20started%20to%20cry%20again.%20%22I%20promised%20to%20love%20him%20and%20let%20him%20eat%20from%20my%20golden%20plate,%20drink%20from%20my%20golden%20cup,%20and%20sleep%20on%20my%20golden%20bed.%20%22The%20King%20looked%20at%20the%20frog%20and%20thought%20for%20a%20while%20before%20he%20spoke.%20%22Then%20you%20must%20keep%20your%20promise,%20my%20daughter.%20%22The%20Princess%20knew%20she%20must%20obey,%20so%20she%20let%20the%20frog%20to%20come%20inside%20The%20frog%20hopped%20in%20after%20her%20and%20jumped%20up%20into%20her%20chair%20and%20straight%20onto%20the%20table.%20%22Now%20push%20your%20golden%20plate%20near%20me.%22%20said%20the%20frog,%20%22so%20that%20we%20may%20eat%20together.%22%20As%20she%20did%20so,%20the%20frog%20leapt%20onto%20her%20plate%20and%20ate%20up%20all%20her%20dinner,%20which%20was%20just%20as%20well,%20because%20the%20Princess%20didn't%20feel%20much%20like%20eating.%20Next,%20the%20frog%20drank%20from%20her%20little%20golden%20cup%20until%20it%20was%20quite%20empty.%20Somehow%20the%20Princess%20didn't%20feel%20at%20all%20thirsty%20either!%20After%20the%20frog%20had%20finished,%20he%20took%20one%20great%20leap%20and%20landed%20on%20the%20Princess's%20knee.%20%22Go%20away%20you%20ugly,%20cold%20frog!%20%22she%20screamed.%20%22I%20will%20never%20let%20you%20sleep%20on%20my%20lovely,%20clean%20bed!%20%22That%20made%20the%20King%20very%20angry.%20%22This%20frog%20helped%20you%20when%20you%20needed%20it.%20Now%20you%20must%20keep%20your%20promise%20to%20him.%20%22Very%20unwillingly%20the%20Princess%20picked%20up%20the%20frog%20and%20carried%20him%20upstairs%20to%20her%20room.%20When%20the%20frog%20hopped%20into%20the%20middle%20of%20her%20goldened,%20it%20was%20just%20too%20much%20for%20the%20Princess.%20She%20pushed%20the%20frog%20hard%20and%20it%20fell%20onto%20the%20floor.%20As%20he%20fell%20he%20was%20changed%20into%20a%20handsome%20Prince.%20A%20spell%20had%20been%20cast%20on%20him%20by%20an%20evil%20witch%20and%20only%20the%20Princess%20had%20the%20power%20to%20break%20it.%20The%20Princess%20was%20speechless.%20She%20felt%20very%20sorry%20indeed%20that%20she%20had%20been%20so%20unkind%20to%20the%20frog.%20After%20a%20while,%20the%20handsome%20Prince%20and%20the%20Princess%20were%20married,%20and%20lived%20happily%20ever%20after."
     ]
    }
   ],
   "source": [
    "import requests\n",
    "with open(\"b.txt\", \"r\", encoding=\"utf-8\") as f:\n",
    "    article = f.read()\n",
    "# 因為篇幅關係, 我先把基本 url 放在這裡\n",
    "baseurl = \"https://translate.google.com/translate_tts?ie=UTF-8&tl=en&client=tw-ob&q=\"\n",
    "url = baseurl + article\n",
    "response = requests.get(url)\n",
    "response.raise_for_status()"
   ]
  },
  {
   "cell_type": "code",
   "execution_count": 20,
   "metadata": {
    "scrolled": true
   },
   "outputs": [
    {
     "name": "stdout",
     "output_type": "stream",
     "text": [
      "['Later that day, when the Princess was sitting at the table, something was heard coming up the marble stairs.', 'Splish, splosh, splish splosh!', 'The sound came nearer and nearer, and a voice cried, \"Let me in, youngest daughter of the King.', '\"The Princess jumped up to see who had called her.', 'Now when she caught sight of the frog, she turned very pale.', '\"What does a frog want with you?\"', 'demanded the King, looking rather surprised.', 'The Princess hung her head.', '\"When I was sitting by the fountain my golden ball fell into the water.', 'This frog fetched it back for me, because I cried so much.\"', 'The Princess started to cry again.', '\"I promised to love him and let him eat from my golden plate, drink from my golden cup, and sleep on my golden bed.', '\"The King looked at the frog and thought for a while before he spoke.', '\"Then you must keep your promise, my daughter.', '\"The Princess knew she must obey, so she let the frog to come inside The frog hopped in after her and jumped up into her chair and straight onto the table.', '\"Now push your golden plate near me.\"', 'said the frog, \"so that we may eat together.\"', \"As she did so, the frog leapt onto her plate and ate up all her dinner, which was just as well, because the Princess didn't feel much like eating.\", 'Next, the frog drank from her little golden cup until it was quite empty.', \"Somehow the Princess didn't feel at all thirsty either!\", \"After the frog had finished, he took one great leap and landed on the Princess's knee.\", '\"Go away you ugly, cold frog!', '\"she screamed.', '\"I will never let you sleep on my lovely, clean bed!', '\"That made the King very angry.', '\"This frog helped you when you needed it.', 'Now you must keep your promise to him.', '\"Very unwillingly the Princess picked up the frog and carried him upstairs to her room.', 'When the frog hopped into the middle of her goldened, it was just too much for the Princess.', 'She pushed the frog hard and it fell onto the floor.', 'As he fell he was changed into a handsome Prince.', 'A spell had been cast on him by an evil witch and only the Princess had the power to break it.', 'The Princess was speechless.', 'She felt very sorry indeed that she had been so unkind to the frog.', 'After a while, the handsome Prince and the Princess were married, and lived happily ever after.']\n",
      "[處理句子]: Later that day, when the Princess was sitting at the table, something was heard coming up the marble stairs.\n",
      "[處理句子]: Splish, splosh, splish splosh!\n",
      "[處理句子]: The sound came nearer and nearer, and a voice cried, \"Let me in, youngest daughter of the King.\n",
      "[處理句子]: \"The Princess jumped up to see who had called her.\n",
      "[處理句子]: Now when she caught sight of the frog, she turned very pale.\n",
      "[處理句子]: \"What does a frog want with you?\"\n",
      "[處理句子]: demanded the King, looking rather surprised.\n",
      "[處理句子]: The Princess hung her head.\n",
      "[處理句子]: \"When I was sitting by the fountain my golden ball fell into the water.\n",
      "[處理句子]: This frog fetched it back for me, because I cried so much.\"\n",
      "[處理句子]: The Princess started to cry again.\n",
      "[處理句子]: \"I promised to love him and let him eat from my golden plate, drink from my golden cup, and sleep on my golden bed.\n",
      "[處理句子]: \"The King looked at the frog and thought for a while before he spoke.\n",
      "[處理句子]: \"Then you must keep your promise, my daughter.\n",
      "[處理句子]: \"The Princess knew she must obey, so she let the frog to come inside The frog hopped in after her and jumped up into her chair and straight onto the table.\n",
      "[處理句子]: \"Now push your golden plate near me.\"\n",
      "[處理句子]: said the frog, \"so that we may eat together.\"\n",
      "[處理句子]: As she did so, the frog leapt onto her plate and ate up all her dinner, which was just as well, because the Princess didn't feel much like eating.\n",
      "[處理句子]: Next, the frog drank from her little golden cup until it was quite empty.\n",
      "[處理句子]: Somehow the Princess didn't feel at all thirsty either!\n",
      "[處理句子]: After the frog had finished, he took one great leap and landed on the Princess's knee.\n",
      "[處理句子]: \"Go away you ugly, cold frog!\n",
      "[處理句子]: \"she screamed.\n",
      "[處理句子]: \"I will never let you sleep on my lovely, clean bed!\n",
      "[處理句子]: \"That made the King very angry.\n",
      "[處理句子]: \"This frog helped you when you needed it.\n",
      "[處理句子]: Now you must keep your promise to him.\n",
      "[處理句子]: \"Very unwillingly the Princess picked up the frog and carried him upstairs to her room.\n",
      "[處理句子]: When the frog hopped into the middle of her goldened, it was just too much for the Princess.\n",
      "[處理句子]: She pushed the frog hard and it fell onto the floor.\n",
      "[處理句子]: As he fell he was changed into a handsome Prince.\n",
      "[處理句子]: A spell had been cast on him by an evil witch and only the Princess had the power to break it.\n",
      "[處理句子]: The Princess was speechless.\n",
      "[處理句子]: She felt very sorry indeed that she had been so unkind to the frog.\n",
      "[處理句子]: After a while, the handsome Prince and the Princess were married, and lived happily ever after.\n"
     ]
    }
   ],
   "source": [
    "import requests\n",
    "# 讀取文章\n",
    "with open(\"b.txt\", \"r\", encoding=\"utf-8\") as f:\n",
    "    article = f.read()\n",
    "# import nltk 並且把句子分出來, 讀者可以印出 tok_article 來看句子 list\n",
    "from nltk import tokenize\n",
    "tok_article = tokenize.sent_tokenize(article)\n",
    "# 因為我們最後才儲存檔案, 所以記得要準備一個箱子, 把一句一句 mp3 先放在箱子裡\n",
    "# b 的意思是 bytes 的意思, b\"\" 可以幫你準備一個空的原始內容\n",
    "allcontent = b\"\"\n",
    "# 因為篇幅關係, 我先把基本 url 放在這裡\n",
    "baseurl = \"https://translate.google.com/translate_tts?ie=UTF-8&tl=en&client=tw-ob&q=\"\n",
    "# 走過 list 裡的一個一個 sentence\n",
    "for sentence in tok_article:\n",
    "    print(\"[處理句子]:\", sentence)\n",
    "    url = baseurl + sentence\n",
    "    response = requests.get(url)\n",
    "    # 為了怕有任何問題, 所以如果有 HTTP error 我會把它 raise 起來\n",
    "    response.raise_for_status()\n",
    "    # 把得到的 content 加在我們的容器後\n",
    "    audio = response.content\n",
    "    allcontent += audio\n",
    "    # 把完整的 mp3 輸出, 注意縮排位址\n",
    "with open(\"all.mp3\", \"wb\") as f:\n",
    "    f.write(allcontent)"
   ]
  }
 ],
 "metadata": {
  "kernelspec": {
   "display_name": "Python 3",
   "language": "python",
   "name": "python3"
  },
  "language_info": {
   "codemirror_mode": {
    "name": "ipython",
    "version": 3
   },
   "file_extension": ".py",
   "mimetype": "text/x-python",
   "name": "python",
   "nbconvert_exporter": "python",
   "pygments_lexer": "ipython3",
   "version": "3.7.0"
  }
 },
 "nbformat": 4,
 "nbformat_minor": 2
}
