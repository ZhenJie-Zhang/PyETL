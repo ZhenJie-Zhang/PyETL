{
 "cells": [
  {
   "cell_type": "markdown",
   "metadata": {},
   "source": [
    "# Don't Input Following code in Jupyter Notebook!!\n",
    "1. open cmd or powershell, \n",
    "2. then input following code to install package we needed.\n",
    "```console\n",
    "C:\\Users\\Big data>\n",
    "```\n",
    "---\n",
    "##### chapter 02_Pandas_Base\n",
    "- python -m pip install --upgrade pip\n",
    "- python -m pip install jieba\n",
    "- python -m pip install git+https://github.com/nficano/pytube.git\n",
    "\n",
    "##### chapter 03_Google_Dynamic_Image_Download\n",
    "```console\n",
    "C:\\Users\\Big data>python -m pip install pandas\n",
    "```\n",
    "- python -m pip install pandas\n",
    "- python -m pip install matplotlib\n",
    "- python -m pip install Pillow\n",
    "\n",
    "##### chapter 04_Tabelog_Restaurant_Collect\n",
    "- python -m pip install beautifulsoup4\n",
    "\n",
    "##### chapter 05_Google_Translate\n",
    "- python -m pip install requests\n",
    "- python -m pip install nltk"
   ]
  },
  {
   "cell_type": "markdown",
   "metadata": {},
   "source": [
    "## Test to use LaTeX equations\n",
    "- https://jupyter-notebook.readthedocs.io/en/stable/examples/Notebook/Working%20With%20Markdown%20Cells.html\n",
    "\n",
    "$e^{i\\pi} + 1 = 0$\n",
    "$$e^x=\\sum_{i=0}^\\infty \\frac{1}{i!}x^i$$\n",
    "\n",
    "\n",
    "```python\n",
    "print \"Hello World\"\n",
    "```\n",
    "```javascript\n",
    "console.log(\"Hello World\")\n",
    "```"
   ]
  }
 ],
 "metadata": {
  "kernelspec": {
   "display_name": "Python 3",
   "language": "python",
   "name": "python3"
  },
  "language_info": {
   "codemirror_mode": {
    "name": "ipython",
    "version": 3
   },
   "file_extension": ".py",
   "mimetype": "text/x-python",
   "name": "python",
   "nbconvert_exporter": "python",
   "pygments_lexer": "ipython3",
   "version": "3.7.0"
  }
 },
 "nbformat": 4,
 "nbformat_minor": 2
}
